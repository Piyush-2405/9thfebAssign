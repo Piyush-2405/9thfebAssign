{
 "cells": [
  {
   "cell_type": "markdown",
   "id": "5d2e7281-d82c-4d36-979e-e294176f2548",
   "metadata": {},
   "source": [
    "Q1. Create a vehicle class with an init method having instance variables as name_of_vehicle, max_speed\n",
    "and average_of_vehicle."
   ]
  },
  {
   "cell_type": "code",
   "execution_count": 6,
   "id": "26a59ca0-7679-41a4-99e4-0185f35983ce",
   "metadata": {},
   "outputs": [],
   "source": [
    "class vehicle :\n",
    "    \n",
    "    def __init__(self, name_of_vehicle, max_speed, average_of_vehicle):\n",
    "        self.name_of_vehicle = name_of_vehicle\n",
    "        self. max_speed =  max_speed\n",
    "        self.average_of_vehicle = average_of_vehicle\n",
    "    \n",
    "    def details(self) :\n",
    "        return   self.name_of_vehicle, self. max_speed,  self.average_of_vehicle "
   ]
  },
  {
   "cell_type": "markdown",
   "id": "d6de2250-89ef-4b15-b955-61ba9b9e2e5d",
   "metadata": {},
   "source": [
    "Q2. Create a child class car from the vehicle class created in Que 1, which will inherit the vehicle class.\n",
    "Create a method named seating_capacity which takes capacity as an argument and returns the name of\n",
    "the vehicle and its seating capacity."
   ]
  },
  {
   "cell_type": "code",
   "execution_count": 7,
   "id": "2fdbb0c8-5d88-46a4-9c50-d6dc066422b0",
   "metadata": {},
   "outputs": [],
   "source": [
    "class vehicle :\n",
    "    \n",
    "    def __init__(self, name_of_vehicle, max_speed, average_of_vehicle):\n",
    "        self.name_of_vehicle = name_of_vehicle\n",
    "        self. max_speed =  max_speed\n",
    "        self.average_of_vehicle = average_of_vehicle\n",
    "    \n",
    "    def details(self) :\n",
    "        return   self.name_of_vehicle, self. max_speed,  self.average_of_vehicle \n",
    "\n",
    "class car(vehicle):\n",
    "    def seating_capacity(self,capacity):\n",
    "        return self.name_of_vehicle, self.capacity"
   ]
  },
  {
   "cell_type": "markdown",
   "id": "3e12d395-a237-4418-826a-4946c0e4b8ae",
   "metadata": {},
   "source": [
    "Q3. What is multiple inheritance? Write a python code to demonstrate multiple inheritance."
   ]
  },
  {
   "cell_type": "markdown",
   "id": "1024e0df-1f3a-43bb-9437-17a35023f561",
   "metadata": {},
   "source": [
    "When a class is derived from more than one base class it is called multiple Inheritance. The derived class inherits all the features of the base case."
   ]
  },
  {
   "cell_type": "code",
   "execution_count": 8,
   "id": "17bb5cc6-5584-47ae-a3dd-c0044690721d",
   "metadata": {},
   "outputs": [
    {
     "name": "stdout",
     "output_type": "stream",
     "text": [
      "my mother is a housemaker\n",
      "my father is a businessman\n"
     ]
    }
   ],
   "source": [
    " class Father :\n",
    "    def about_father(self):\n",
    "        print(\"my father is a businessman\")\n",
    "  \n",
    " class Mother :\n",
    "    def about_mother(self):\n",
    "        print(\"my mother is a housemaker\")\n",
    "   \n",
    " class child(Father, Mother):\n",
    "        pass\n",
    "        \n",
    "c = child()  \n",
    "\n",
    "c.about_mother()\n",
    "c.about_father()\n",
    "    "
   ]
  },
  {
   "cell_type": "markdown",
   "id": "7005c08e-fa7d-42d4-a7a9-43b593b01fc4",
   "metadata": {},
   "source": [
    "Q4. What are getter and setter in python? Create a class and create a getter and a setter method in this\n",
    "class."
   ]
  },
  {
   "cell_type": "markdown",
   "id": "d7200007-745d-4bdb-a3ba-eb0c7276cc7b",
   "metadata": {},
   "source": [
    "Getters are the methods that are used in Object-Oriented Programming (OOPS) to access a class's private attributes.\n",
    "\n",
    "The setter is a method that is used to set the property's value. It is very useful in object-oriented programming to set the value of private attributes in a class."
   ]
  },
  {
   "cell_type": "code",
   "execution_count": 13,
   "id": "9c620658-5364-47c9-a32c-adab18431e77",
   "metadata": {},
   "outputs": [
    {
     "name": "stdout",
     "output_type": "stream",
     "text": [
      "Akshay\n",
      "30\n",
      "Binod\n",
      "35\n"
     ]
    }
   ],
   "source": [
    " class Person:\n",
    "    def __init__(self, name, age):\n",
    "        self._name = name\n",
    "        self._age = age\n",
    "\n",
    "    def get_name(self):\n",
    "        return self._name\n",
    "\n",
    "    def set_name(self, name):\n",
    "        self._name = name\n",
    "\n",
    "    def get_age(self):\n",
    "        return self._age\n",
    "\n",
    "    def set_age(self, age):\n",
    "        self._age = age\n",
    "\n",
    "    person = Person(\"Akshay\", 30)\n",
    "    print(person.get_name())  \n",
    "    print(person.get_age())   \n",
    "\n",
    "    person.set_name(\"Binod\")\n",
    "    person.set_age(35)\n",
    "\n",
    "    print(person.get_name())  \n",
    "    print(person.get_age())   \n"
   ]
  },
  {
   "cell_type": "markdown",
   "id": "3a29203a-4623-41cf-baa2-938dbfa4fc4e",
   "metadata": {},
   "source": [
    "Q5.What is method overriding in python? Write a python code to demonstrate method overriding."
   ]
  },
  {
   "cell_type": "markdown",
   "id": "056b5b5b-ea2a-412a-a8c9-e2c70e40879a",
   "metadata": {},
   "source": [
    "Method overriding is a feature of object-oriented programming where a subclass provides its implementation of a method that is already defined in its superclass. The subclass's implementation \"overrides\" the implementation of the superclass.\n",
    "\n",
    "In Python, method overriding can be accomplished by defining a method with the same name in the subclass as in the superclass. When the method is called on an object of the subclass, the subclass's implementation of the method is executed instead of the superclass's implementation."
   ]
  },
  {
   "cell_type": "code",
   "execution_count": 14,
   "id": "d11e50ca-51d5-40fa-b112-e45abd3aa203",
   "metadata": {},
   "outputs": [
    {
     "name": "stdout",
     "output_type": "stream",
     "text": [
      "The animal is speaking\n",
      "The dog is barking\n"
     ]
    }
   ],
   "source": [
    "class Animal:\n",
    "    def speak(self):\n",
    "        print(\"The animal is speaking\")\n",
    "\n",
    "class Dog(Animal):\n",
    "    def speak(self):\n",
    "        print(\"The dog is barking\")\n",
    "\n",
    "animal = Animal()\n",
    "animal.speak()  \n",
    "\n",
    "dog = Dog()\n",
    "dog.speak()  \n",
    "\n",
    "# The Dog class's implementation of \n",
    "#the speak() method has overridden the Animal class's implementation."
   ]
  },
  {
   "cell_type": "code",
   "execution_count": null,
   "id": "6e0f450b-b13c-4edb-8e02-02c4bd91b20c",
   "metadata": {},
   "outputs": [],
   "source": []
  }
 ],
 "metadata": {
  "kernelspec": {
   "display_name": "Python 3 (ipykernel)",
   "language": "python",
   "name": "python3"
  },
  "language_info": {
   "codemirror_mode": {
    "name": "ipython",
    "version": 3
   },
   "file_extension": ".py",
   "mimetype": "text/x-python",
   "name": "python",
   "nbconvert_exporter": "python",
   "pygments_lexer": "ipython3",
   "version": "3.10.8"
  }
 },
 "nbformat": 4,
 "nbformat_minor": 5
}
